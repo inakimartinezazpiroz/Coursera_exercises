{
 "cells": [
  {
   "cell_type": "markdown",
   "id": "76172bf7",
   "metadata": {},
   "source": [
    "# Data Science Tools and Ecosystem"
   ]
  },
  {
   "cell_type": "markdown",
   "id": "f5e92b36",
   "metadata": {},
   "source": [
    "In this notebook, Data Science Tools and Ecosystem are summarized."
   ]
  },
  {
   "cell_type": "markdown",
   "id": "03ce55cc",
   "metadata": {},
   "source": [
    "Objectives:\n",
    "* List popular languages in Data Science\n",
    "* List some commonly used libraries used by data scientists\n",
    "* List a few examples of evaluating arithmetic expressins in Python"
   ]
  },
  {
   "cell_type": "markdown",
   "id": "8dae7139",
   "metadata": {},
   "source": [
    "Some of the popular languages that Data Scientists use are:\n",
    "1. Python\n",
    "2. R\n",
    "3. JavaScript"
   ]
  },
  {
   "cell_type": "markdown",
   "id": "e8c1e264",
   "metadata": {},
   "source": [
    "Some of the commonly used libraries used by Data Scientists include:\n",
    "1. NumPy (Python)\n",
    "2. Pandas (Python)\n",
    "3. Matplotlib (Python)\n",
    "4. Ggplot (R)"
   ]
  },
  {
   "cell_type": "markdown",
   "id": "d50aa6c8",
   "metadata": {},
   "source": [
    "Tools for Data Science:"
   ]
  },
  {
   "cell_type": "markdown",
   "id": "f30f8f3d",
   "metadata": {},
   "source": [
    "|Data Science Tools|\n",
    "|:----------|\n",
    "|Jupyter Notebooks|\n",
    "|Anaconda|\n",
    "|Google Collaboratory|"
   ]
  },
  {
   "cell_type": "markdown",
   "id": "968ffe28",
   "metadata": {},
   "source": [
    "### Below are a few examples of evaluating arithmetic expressions in Python"
   ]
  },
  {
   "cell_type": "code",
   "execution_count": 7,
   "id": "ec010495",
   "metadata": {},
   "outputs": [
    {
     "data": {
      "text/plain": [
       "17"
      ]
     },
     "execution_count": 7,
     "metadata": {},
     "output_type": "execute_result"
    }
   ],
   "source": [
    "(3*4)+5"
   ]
  },
  {
   "cell_type": "markdown",
   "id": "19869833",
   "metadata": {},
   "source": [
    "This is a simple arithmetic expression to multiply 3 with 4, and then add that result to a 5 integer."
   ]
  },
  {
   "cell_type": "code",
   "execution_count": 8,
   "id": "445de1af",
   "metadata": {
    "scrolled": true
   },
   "outputs": [
    {
     "name": "stdout",
     "output_type": "stream",
     "text": [
      "Result: 3.3333333333333335 hours\n"
     ]
    }
   ],
   "source": [
    "x = 200 # minuts\n",
    "print(\"Result:\", x/60, \"hours\")"
   ]
  },
  {
   "cell_type": "markdown",
   "id": "94915dc0",
   "metadata": {},
   "source": [
    "This calculation shows how many hours are the minutes indicated in the variable \"x\"."
   ]
  },
  {
   "cell_type": "markdown",
   "id": "6376292f",
   "metadata": {},
   "source": [
    "## Author\n",
    "Iñaki Martinez Azpiroz <br>\n",
    "Wednesday, June 12, 2024"
   ]
  }
 ],
 "metadata": {
  "kernelspec": {
   "display_name": "Python 3 (ipykernel)",
   "language": "python",
   "name": "python3"
  },
  "language_info": {
   "codemirror_mode": {
    "name": "ipython",
    "version": 3
   },
   "file_extension": ".py",
   "mimetype": "text/x-python",
   "name": "python",
   "nbconvert_exporter": "python",
   "pygments_lexer": "ipython3",
   "version": "3.9.5"
  }
 },
 "nbformat": 4,
 "nbformat_minor": 5
}
